{
 "cells": [
  {
   "cell_type": "markdown",
   "metadata": {},
   "source": [
    "# Monte Carlo Simulation of Investment Portfolio Performance: \n",
    "> Descriptive Statistics, Hypothesis Testing, and Variance Reduction Techniques"
   ]
  },
  {
   "cell_type": "markdown",
   "metadata": {},
   "source": [
    "## Example-1\n",
    "\n",
    "1. **Objective:**\n",
    "\n",
    "    The objective of of the present notebook is to simulate the growth of a hypothetical investment portfolio over a certain time period and analyze its performance. We'll use Monte Carlo simulation to estimate the portfolio's potential future value and assess the associated risks.\n",
    "\n",
    "2. **Steps:**\n",
    "\n",
    "    The steps involved in this example are as follows:\n",
    "\n",
    "   - **Define the investment parameters** (initial investment, expected return, volatility).\n",
    "     - Identify the assets in the portfolio.\n",
    "     - Assign weights to each asset, representing the allocation or proportion of the portfolio invested in that asset.\n",
    "     - Determine the historical returns and standard deviations of the assets.\n",
    "   - **Set simulation parameters:**\n",
    "        - Specify the number of simulations to run.\n",
    "        - Define the time horizon for the simulation (e.g., number of years).\n",
    "   - **Perform Monte Carlo simulation:**\n",
    "     - Generate random samples of annual returns based on the assumed probability distribution.\n",
    "     - Calculate the portfolio value at the end of each year using the generated returns.\n",
    "   - Repeat the simulation for a large number of iterations.\n",
    "   - **Analyze the simulation results:**\n",
    "        - Calculate descriptive statistics such as mean, standard deviation, minimum, and maximum of the simulated portfolio values.\n",
    "        - Construct confidence intervals to estimate the range of potential future portfolio values with a certain level of confidence.\n",
    "        - Visualize the distribution of portfolio values using histograms or density plots.\n",
    "        - Assess the portfolio's risk metrics, such as Value-at-Risk (VaR) or Conditional Value-at-Risk (CVaR), to measure the downside potential.\n",
    "\n",
    "3. **Descriptive and Inferential Statistics:**\n",
    "\n",
    "    - **Probability Distribution:** In this example, we'll assume that the annual returns of the portfolio follow a normal distribution. The mean and standard deviation will be provided as inputs.\n",
    "    - **Sampling Method:** We'll use a random number generator to sample from the assumed normal distribution.\n",
    "    - **Confidence Intervals:** We'll calculate confidence intervals to estimate the range within which the future portfolio value is likely to fall with a certain level of confidence.\n",
    "     \n",
    "4. **Hypothesis Testing:** \n",
    "\n",
    "    For hypothesis testing, let's assume that we want to test if the average annual return of the portfolio is significantly different from a specified target return. We'll perform a one-sample t-test to evaluate this hypothesis.\n",
    "\n",
    "5. **Variance Reduction Techniques:**\n",
    "   \n",
    "    To reduce the variance in the Monte Carlo simulation and improve its efficiency, we'll employ the antithetic variates technique. This technique involves generating pairs of random samples with opposite values and averaging their results. It helps cancel out random fluctuations and reduce the overall variance."
   ]
  },
  {
   "cell_type": "code",
   "execution_count": null,
   "metadata": {},
   "outputs": [],
   "source": [
    "# Importing the important python library\n",
    "import random\n",
    "import numpy as np\n",
    "import pandas as pd\n",
    "import matplotlib.pyplot as plt\n",
    "import scipy.stats as stats"
   ]
  },
  {
   "cell_type": "code",
   "execution_count": null,
   "metadata": {},
   "outputs": [],
   "source": [
    "# Investment parameters\n",
    "initial_investment = 100000 # (in euros)\n",
    "expected_return = 0.08\n",
    "volatility = 0.15\n",
    "num_years = 10\n",
    "num_simulations = 1000"
   ]
  },
  {
   "cell_type": "code",
   "execution_count": null,
   "metadata": {},
   "outputs": [],
   "source": [
    "# Generate random samples using Normal probability distribution of annual returns with added noise\n",
    "random_noise = np.random.normal(0, 0.01, (num_years, num_simulations))\n",
    "annual_returns = np.random.normal(expected_return, volatility, (num_years, num_simulations)) + random_noise"
   ]
  },
  {
   "cell_type": "markdown",
   "metadata": {},
   "source": [
    "The `random_noise` term is added to introduce additional randomness or variability to the annual returns in order to ensure that the standard deviation and variance of the portfolio values are not zero."
   ]
  },
  {
   "cell_type": "code",
   "execution_count": null,
   "metadata": {},
   "outputs": [],
   "source": [
    "# Calculate portfolio values at the end of each year\n",
    "portfolio_values = [initial_investment]\n",
    "for year in range(num_years):\n",
    "    for simulation in range(num_simulations):\n",
    "        portfolio_value = portfolio_values[-1] * (1 + annual_returns[year, simulation])\n",
    "        portfolio_values.append(portfolio_value)"
   ]
  },
  {
   "cell_type": "code",
   "execution_count": null,
   "metadata": {},
   "outputs": [],
   "source": [
    "# Descriptive statistics\n",
    "mean_portfolio_value = np.mean(portfolio_values)\n",
    "std_dev_portfolio_value = np.std(portfolio_values)\n",
    "\n",
    "# Output the results\n",
    "print(\"Descriptive Statistics:\")\n",
    "print(\"Mean Portfolio Value:\", mean_portfolio_value)\n",
    "print(\"Standard Deviation of Portfolio Value:\", std_dev_portfolio_value)"
   ]
  },
  {
   "cell_type": "code",
   "execution_count": null,
   "metadata": {},
   "outputs": [],
   "source": [
    "# Flatten the annual returns to a 1D array\n",
    "flattened_returns = annual_returns.flatten()\n",
    "\n",
    "# Plotting the histogram and PDF\n",
    "plt.figure(figsize=(8, 6))\n",
    "plt.hist(flattened_returns, bins=30, density=True, alpha=0.7, label='Histogram')\n",
    "\n",
    "# Generate x values for the PDF plot\n",
    "x = np.linspace(min(flattened_returns), max(flattened_returns), 100)\n",
    "# Calculate the PDF using the mean and standard deviation\n",
    "pdf = stats.norm.pdf(x, loc=expected_return, scale=volatility)\n",
    "plt.plot(x, pdf, color='red', lw=2, label='Normal Distribution')\n",
    "\n",
    "plt.xlabel(\"Annual Returns\")\n",
    "plt.ylabel(\"Density\")\n",
    "plt.title(\"Histogram and Normal Distribution of Annual Returns\")\n",
    "plt.legend()\n",
    "plt.show()"
   ]
  },
  {
   "cell_type": "markdown",
   "metadata": {},
   "source": [
    "The `flatten()` function converts the 2-dimensional array into a 1-dimensional array, which is required by the `plt.hist` function."
   ]
  },
  {
   "cell_type": "markdown",
   "metadata": {},
   "source": [
    "### Inferential statistics\n",
    "\n",
    "Inferential statistics involves making inferences or drawing conclusions about a population based on a sample of data. Below we will calculate following:\n",
    "- **Confidence Interval for the Mean:** Calculate the confidence interval for the mean portfolio value to estimate the range in which the true population mean is likely to fall. This provides a measure of the uncertainty associated with the sample mean.\n",
    "- **Hypothesis Testing (One-sample t-test):**  Perform a hypothesis test to determine if the mean portfolio value is significantly different from a hypothesized value, such as an initial investment or a benchmark value. This test helps assess the statistical evidence for accepting or rejecting a null hypothesis."
   ]
  },
  {
   "cell_type": "code",
   "execution_count": null,
   "metadata": {},
   "outputs": [],
   "source": [
    "# Inferential statistics - Confidence interval\n",
    "confidence_level = 0.95\n",
    "mean_portfolio_value = np.mean(portfolio_values)\n",
    "std_dev_portfolio_value = np.std(portfolio_values)\n",
    "n = len(portfolio_values)\n",
    "margin_of_error = stats.norm.ppf((1 + confidence_level) / 2) * std_dev_portfolio_value / np.sqrt(n)\n",
    "confidence_interval = (mean_portfolio_value - margin_of_error, mean_portfolio_value + margin_of_error)\n",
    "\n",
    "\n",
    "print(\"\\nInferential Statistics - Confidence Interval:\")\n",
    "print(f\"{confidence_level*100}% Confidence Interval:\", confidence_interval)\n"
   ]
  },
  {
   "cell_type": "code",
   "execution_count": null,
   "metadata": {},
   "outputs": [],
   "source": [
    "# Hypothesis testing (one sample test)\n",
    "\n",
    "target_return = 0.07\n",
    "t_statistic, p_value = stats.ttest_1samp(annual_returns.flatten(), target_return)\n",
    "\n",
    "print(\"\\nHypothesis Testing:\")\n",
    "print(\"Target Return:\", target_return)\n",
    "print(\"T-Statistic:\", t_statistic)\n",
    "print(\"P-Value:\", p_value)"
   ]
  },
  {
   "cell_type": "markdown",
   "metadata": {},
   "source": [
    "###  Variance reduction techniques\n",
    "\n",
    "In the context of the provided portfolio investment Monte Carlo simulation code, there are several possible variance reduction techniques you can consider. Here are two commonly used techniques: antithetic variates and control variates.\n",
    "\n",
    "- **Antithetic Variates:** Antithetic variates involve generating paired samples that are negatively correlated. In this case, you can generate two sets of random samples for annual returns: one using the original method and the other by negating the original returns. This pairing helps reduce the variance by cancelling out some of the random noise.\n",
    "- **Control Variates:** Control variates involve using a known or approximated related variable as a control to reduce variance. In this case, you can select a benchmark index or another investment instrument that closely tracks the portfolio's performance. By comparing the portfolio values with the benchmark, you can reduce variance by exploiting the correlation between the two."
   ]
  },
  {
   "cell_type": "code",
   "execution_count": null,
   "metadata": {},
   "outputs": [],
   "source": [
    "# Generate random samples of annual returns using original method\n",
    "returns_positive = np.random.normal(expected_return, volatility, (num_years, num_simulations))\n",
    "\n",
    "# Generate random samples of annual returns using negated method (antithetic variates)\n",
    "returns_negative = -returns_positive\n",
    "\n",
    "# Calculate portfolio values using both sets of returns\n",
    "portfolio_values_positive = [initial_investment]\n",
    "portfolio_values_negative = [initial_investment]\n",
    "\n",
    "for year in range(num_years):\n",
    "    for simulation in range(num_simulations):\n",
    "        portfolio_value_positive = portfolio_values_positive[-1] * (1 + returns_positive[year, simulation])\n",
    "        portfolio_values_positive.append(portfolio_value_positive)\n",
    "        \n",
    "        portfolio_value_negative = portfolio_values_negative[-1] * (1 + returns_negative[year, simulation])\n",
    "        portfolio_values_negative.append(portfolio_value_negative)\n",
    "\n",
    "# Combine the portfolio values from both sets\n",
    "portfolio_values_combined = np.concatenate((portfolio_values_positive, portfolio_values_negative))\n",
    "# Create a dataframe from the series of combined portfolio values\n",
    "df_portfolio_values_combined = pd.DataFrame({'Portfolio Value': portfolio_values_combined})\n",
    "print(df_portfolio_values_combined.max())\n",
    "print(df_portfolio_values_combined.min())"
   ]
  },
  {
   "cell_type": "code",
   "execution_count": null,
   "metadata": {},
   "outputs": [],
   "source": [
    "# Generate random samples of benchmark returns\n",
    "benchmark_returns = np.random.normal(expected_return, volatility, (num_years, num_simulations))\n",
    "\n",
    "# Calculate portfolio values and benchmark values\n",
    "portfolio_values = [initial_investment]\n",
    "benchmark_values = [initial_investment]\n",
    "\n",
    "for year in range(num_years):\n",
    "    for simulation in range(num_simulations):\n",
    "        portfolio_value = portfolio_values[-1] * (1 + annual_returns[year, simulation])\n",
    "        benchmark_value = benchmark_values[-1] * (1 + benchmark_returns[year, simulation])\n",
    "\n",
    "        portfolio_values.append(portfolio_value)\n",
    "        benchmark_values.append(benchmark_value)\n",
    "\n",
    "# Calculate the control variate\n",
    "covariance = np.cov(portfolio_values, benchmark_values)\n",
    "beta = covariance[0, 1] / np.var(benchmark_values)\n",
    "control_variate = portfolio_values - beta * (benchmark_values - np.mean(benchmark_values))\n"
   ]
  },
  {
   "cell_type": "markdown",
   "metadata": {},
   "source": [
    "## Example -2 \n",
    "\n",
    "1. **Objective:** To estimate the potential future value of the investment portfolio and assess the associated risks using Monte Carlo simulation.\n",
    "\n",
    "2. **Steps:**\n",
    "    - **Define the investment portfolio:**\n",
    "        - Identify the assets in the portfolio.\n",
    "        - Assign weights to each asset, representing the allocation or proportion of the portfolio invested in that asset.\n",
    "        - Determine the historical returns and standard deviations of the assets.\n",
    "    - **Set simulation parameters:**\n",
    "        - Specify the number of simulations to run.\n",
    "        - Define the time horizon for the simulation (e.g., number of years).\n",
    "\n",
    "    - **Perform Monte Carlo simulation:**\n",
    "        - Generate random samples for each asset's future returns based on their historical return distributions.\n",
    "        - Calculate the future portfolio values for each simulation by combining the weighted returns of the assets over the time horizon.\n",
    "\n",
    "    - **Analyze the simulation results:**\n",
    "        - Calculate descriptive statistics such as mean, standard deviation, minimum, and maximum of the simulated portfolio values.\n",
    "        - Construct confidence intervals to estimate the range of potential future portfolio values with a certain level of confidence.\n",
    "        - Visualize the distribution of portfolio values using histograms or density plots.\n",
    "        - Assess the portfolio's risk metrics, such as Value-at-Risk (VaR) or Conditional Value-at-Risk (CVaR), to measure the downside potential."
   ]
  },
  {
   "cell_type": "code",
   "execution_count": 21,
   "metadata": {},
   "outputs": [],
   "source": [
    "import numpy as np\n",
    "import pandas as pd\n",
    "import seaborn as sns\n",
    "import matplotlib.pyplot as plt\n",
    "import scipy.stats as stats"
   ]
  },
  {
   "cell_type": "code",
   "execution_count": 22,
   "metadata": {},
   "outputs": [],
   "source": [
    "# Define the investment portfolio\n",
    "assets = ['Stocks', 'Bonds', 'Real Estate']\n",
    "weights = np.array([0.6, 0.3, 0.1])  # Asset allocation weights\n",
    "returns = np.array([0.08, 0.04, 0.06])  # Historical returns\n",
    "volatility = np.array([0.15, 0.08, 0.12])  # Standard deviations"
   ]
  },
  {
   "cell_type": "code",
   "execution_count": 23,
   "metadata": {},
   "outputs": [],
   "source": [
    "# Set simulation parameters\n",
    "num_simulations = 1000\n",
    "num_years = 10\n",
    "\n",
    "# Perform Monte Carlo simulation\n",
    "portfolio_values = np.zeros((num_years + 1, num_simulations))\n",
    "portfolio_values[0] = 100000  # Initial portfolio value\n",
    "\n",
    "for year in range(1, num_years + 1):\n",
    "    for sim in range(num_simulations):\n",
    "        random_returns = np.random.normal(returns, volatility)\n",
    "        portfolio_value = portfolio_values[year - 1, sim] * np.dot(weights, 1 + random_returns)\n",
    "        portfolio_values[year, sim] = portfolio_value\n",
    "\n",
    "# Analyze the simulation results\n",
    "df_portfolio_values = pd.DataFrame(portfolio_values.T, columns=['Year ' + str(year) for year in range(num_years + 1)])\n",
    "\n",
    "# Calculate descriptive statistics\n",
    "statistics = df_portfolio_values.describe().T[['mean', 'std', 'min', 'max']]"
   ]
  },
  {
   "cell_type": "code",
   "execution_count": null,
   "metadata": {},
   "outputs": [],
   "source": [
    "# Calculate confidence intervals\n",
    "confidence_level = 0.95\n",
    "confidence_intervals = df_portfolio_values.quantile([(1 - confidence_level) / 2, 1 - (1 - confidence_level) / 2])"
   ]
  },
  {
   "cell_type": "code",
   "execution_count": 24,
   "metadata": {},
   "outputs": [],
   "source": [
    "# Calculate risk metrics\n",
    "var_95 = df_portfolio_values['Year 10'].quantile(0.05)\n",
    "cvar_95 = df_portfolio_values['Year 10'][df_portfolio_values['Year 10'] <= var_95].mean()"
   ]
  },
  {
   "cell_type": "code",
   "execution_count": 25,
   "metadata": {},
   "outputs": [
    {
     "name": "stdout",
     "output_type": "stream",
     "text": [
      "Descriptive Statistics:\n",
      "                  mean           std            min            max\n",
      "Year 0   100000.000000      0.000000  100000.000000  100000.000000\n",
      "Year 1   106391.424875   9720.835368   76178.812479  136859.677209\n",
      "Year 2   113276.177178  14150.335640   77792.133358  168975.605131\n",
      "Year 3   120117.833824  17896.783895   73505.468209  185367.665389\n",
      "Year 4   128098.108982  22808.995777   69654.466018  214938.549137\n",
      "Year 5   136240.782824  27481.692553   68186.958008  239474.686820\n",
      "Year 6   144340.336766  32124.598587   67423.515345  297369.915529\n",
      "Year 7   154255.737683  36260.151030   66027.194126  312428.433113\n",
      "Year 8   164372.060905  41370.174885   58872.437802  339793.887631\n",
      "Year 9   175137.728348  46405.183210   66096.099472  358538.015065\n",
      "Year 10  186465.546858  51905.674453   67643.391601  395681.394988\n"
     ]
    }
   ],
   "source": [
    "# Print results\n",
    "print(\"Descriptive Statistics:\")\n",
    "print(statistics)"
   ]
  },
  {
   "cell_type": "code",
   "execution_count": 26,
   "metadata": {},
   "outputs": [
    {
     "name": "stdout",
     "output_type": "stream",
     "text": [
      "\n",
      "Confidence Intervals (95% confidence level):\n",
      "         Year 0         Year 1         Year 2        Year 3         Year 4  \\\n",
      "0.025  100000.0   88053.140151   87347.963754   86822.01209   89965.334592   \n",
      "0.975  100000.0  124054.259790  141852.294626  158319.79067  176771.875349   \n",
      "\n",
      "              Year 5         Year 6         Year 7         Year 8  \\\n",
      "0.025   92343.775620   95983.646789   96565.147679   94701.342694   \n",
      "0.975  197403.415534  224790.007437  245784.984046  265857.792145   \n",
      "\n",
      "              Year 9        Year 10  \n",
      "0.025  102463.233295  103229.230761  \n",
      "0.975  294192.662560  314535.491462  \n"
     ]
    }
   ],
   "source": [
    "print(\"\\nConfidence Intervals ({}% confidence level):\".format(int(confidence_level * 100)))\n",
    "print(confidence_intervals)"
   ]
  },
  {
   "cell_type": "code",
   "execution_count": 27,
   "metadata": {},
   "outputs": [
    {
     "name": "stdout",
     "output_type": "stream",
     "text": [
      "\n",
      "Risk Metrics:\n",
      "Value-at-Risk (VaR) at 95% confidence level: 114625.67829451682\n",
      "Conditional Value-at-Risk (CVaR) at 95% confidence level: 100964.8790026181\n"
     ]
    }
   ],
   "source": [
    "print(\"\\nRisk Metrics:\")\n",
    "print(\"Value-at-Risk (VaR) at 95% confidence level:\", var_95)\n",
    "print(\"Conditional Value-at-Risk (CVaR) at 95% confidence level:\", cvar_95)"
   ]
  },
  {
   "cell_type": "code",
   "execution_count": 33,
   "metadata": {},
   "outputs": [
    {
     "data": {
      "image/png": "[encoded data removed]",
      "text/plain": [
       "<Figure size 800x600 with 1 Axes>"
      ]
     },
     "metadata": {},
     "output_type": "display_data"
    }
   ],
   "source": [
    "# Plotting a histogram of the portfolio values using seaborn\n",
    "plt.figure(figsize=(8, 6))\n",
    "sns.histplot(df_portfolio_values['Year 10'], bins=30, kde=True, element='step')\n",
    "plt.xlabel('Portfolio Value')\n",
    "plt.ylabel('Density')\n",
    "plt.title('Histogram of Portfolio Values after 10 Years')\n",
    "\n",
    "# Calculate risk metrics\n",
    "var_95 = df_portfolio_values['Year 10'].quantile(0.05)\n",
    "cvar_95 = df_portfolio_values['Year 10'][df_portfolio_values['Year 10'] <= var_95].mean()\n",
    "\n",
    "# Add vertical lines to mark Value-at-Risk (VaR) and Conditional Value-at-Risk (CVaR)\n",
    "plt.axvline(x=var_95, color='red', linestyle='--', label='VaR (95% confidence)')\n",
    "plt.axvline(x=cvar_95, color='orange', linestyle='--', label='CVaR (95% confidence)')\n",
    "\n",
    "plt.legend()\n",
    "plt.show()"
   ]
  },
  {
   "cell_type": "markdown",
   "metadata": {},
   "source": [
    "### Conclusion\n",
    "\n",
    "In this example, we consider an investment portfolio consisting of stocks, bonds, and real estate. We specify the weights, historical returns, and standard deviations for each asset. We set the simulation parameters to run 1000 simulations over a 10-year time horizon.\n",
    "\n",
    "The Monte Carlo simulation generates random samples for each asset's future returns using the normal distribution with the specified mean returns and standard deviations. The future portfolio values are calculated by multiplying the previous portfolio value by the weighted returns for each simulation.\n",
    "\n",
    "The simulation results are stored in a dataframe df_portfolio_values, which contains the portfolio values for each simulation and year. We calculate descriptive statistics, including mean, standard deviation, minimum, and maximum values. We construct confidence intervals to estimate the range of potential future portfolio values.\n",
    "\n",
    "We visualize the distribution of portfolio values after 10 years using a histogram. Additionally, we calculate risk metrics such as Value-at-Risk (VaR) and Conditional Value-at-Risk (CVaR) at the 95% confidence level.\n",
    "\n",
    "Finally, we print the descriptive statistics, confidence intervals, and risk metrics to assess the portfolio's potential future value and associated risks.\n",
    "\n",
    "Feel free to modify the example by adjusting the asset allocation, historical returns, standard deviations, simulation parameters, or any other aspect to match your specific requirements.\n",
    "\n",
    "Please note that this example assumes a simplified scenario and should not be considered as financial advice. It's crucial to conduct further research and consult with a financial professional before making any investment decisions."
   ]
  }
 ],
 "metadata": {
  "kernelspec": {
   "display_name": "Python 3",
   "language": "python",
   "name": "python3"
  },
  "language_info": {
   "codemirror_mode": {
    "name": "ipython",
    "version": 3
   },
   "file_extension": ".py",
   "mimetype": "text/x-python",
   "name": "python",
   "nbconvert_exporter": "python",
   "pygments_lexer": "ipython3",
   "version": "3.11.3"
  },
  "orig_nbformat": 4
 },
 "nbformat": 4,
 "nbformat_minor": 2
}
